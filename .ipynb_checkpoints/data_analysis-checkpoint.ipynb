{
 "cells": [
  {
   "cell_type": "code",
   "execution_count": 2,
   "metadata": {},
   "outputs": [],
   "source": [
    "import json\n",
    "import numpy as np\n",
    "import re\n",
    "import string\n",
    "from gensim.models import KeyedVectors\n",
    "from pyvi import ViTokenizer"
   ]
  },
  {
   "cell_type": "code",
   "execution_count": 3,
   "metadata": {},
   "outputs": [
    {
     "data": {
      "text/plain": [
       "11518"
      ]
     },
     "execution_count": 3,
     "metadata": {},
     "output_type": "execute_result"
    }
   ],
   "source": [
    "with open(\"./QAsys/data/train.json\") as file:\n",
    "    data = json.load(file)\n",
    "len(data)"
   ]
  },
  {
   "cell_type": "code",
   "execution_count": 4,
   "metadata": {},
   "outputs": [],
   "source": [
    "questions = []\n",
    "answers = []\n",
    "labels = []\n",
    "for case in data:\n",
    "    questions.append(case[\"question\"])\n",
    "    answers.append(case[\"text\"])\n",
    "    labels.append(case[\"label\"])"
   ]
  },
  {
   "cell_type": "code",
   "execution_count": 14,
   "metadata": {},
   "outputs": [
    {
     "name": "stdout",
     "output_type": "stream",
     "text": [
      "True samples in train set 4606/11518\n"
     ]
    }
   ],
   "source": [
    "true = 0\n",
    "false = 0\n",
    "for i in range(len(labels)):\n",
    "    if labels[i] == True:\n",
    "        true += 1\n",
    "    else:\n",
    "        false += 1\n",
    "print(\"True samples in train set {}/{}\".format(true, len(labels)))\n",
    "\n"
   ]
  },
  {
   "cell_type": "code",
   "execution_count": 15,
   "metadata": {},
   "outputs": [
    {
     "data": {
      "text/plain": [
       "Text(0, 0.5, 'Length')"
      ]
     },
     "execution_count": 15,
     "metadata": {},
     "output_type": "execute_result"
    },
    {
     "data": {
      "image/png": "[encoded data removed]",
      "text/plain": [
       "<Figure size 432x288 with 1 Axes>"
      ]
     },
     "metadata": {
      "needs_background": "light"
     },
     "output_type": "display_data"
    }
   ],
   "source": [
    "len_questions = [len(x.split(\" \")) for x in questions]\n",
    "len_answers = [len(x.split(\" \")) for x in answers]\n",
    "import matplotlib.pyplot as plt\n",
    "plt.hist(len_questions)\n",
    "plt.title('Length of questions')\n",
    "plt.xlabel('Length')"
   ]
  },
  {
   "cell_type": "code",
   "execution_count": 16,
   "metadata": {},
   "outputs": [
    {
     "data": {
      "image/png": "[encoded data removed]",
      "text/plain": [
       "<Figure size 432x288 with 1 Axes>"
      ]
     },
     "metadata": {
      "needs_background": "light"
     },
     "output_type": "display_data"
    }
   ],
   "source": [
    "plt.hist(len_answers, bins = [0,3,5,7,8,10,20,30,40,50,60,70,80,90,100,110,120,130,140,150,200])\n",
    "plt.title('Length of answers')\n",
    "plt.xlabel('Length')\n",
    "plt.show()"
   ]
  },
  {
   "cell_type": "code",
   "execution_count": 40,
   "metadata": {},
   "outputs": [],
   "source": [
    "import string\n",
    "\n",
    "def convertNumbers(sentence):\n",
    "    convert_dict = {'0': u' không ',\n",
    "                    '1': u' một ',\n",
    "                    '2': u' hai ',\n",
    "                    '3': u' ba ',\n",
    "                    '4': u' bốn ',\n",
    "                    '5': u' năm ',\n",
    "                    '6': u' sáu ',\n",
    "                    '7': u' bảy ',\n",
    "                    '8': u' tám ',\n",
    "                    '9': u' chín '\n",
    "                    }\n",
    "    result = \"\"\n",
    "    for char in sentence:\n",
    "        if char in convert_dict:\n",
    "            result += convert_dict[char]\n",
    "        else:\n",
    "            result += char\n",
    "    return result\n",
    "\n",
    "def preprocess_sentence(sentence):\n",
    "    result = sentence.lower()\n",
    "    result = result.translate(str.maketrans('', '', string.punctuation))\n",
    "    result = convertNumbers(result)\n",
    "    result = \" \".join(result.split())\n",
    "    return result"
   ]
  },
  {
   "cell_type": "code",
   "execution_count": 48,
   "metadata": {},
   "outputs": [],
   "source": [
    "import sys\n",
    "for i in range(len(questions)):\n",
    "    questions[i] = preprocess_sentence(questions[i])\n",
    "    answers[i] = preprocess_sentence(answers[i])\n",
    "    \n",
    "train_questions = []\n",
    "train_answers = []\n",
    "for i in range(len(questions)):\n",
    "    train_questions.append(ViTokenizer.tokenize(questions[i]).split())\n",
    "    train_answers.append(ViTokenizer.tokenize(answers[i]).split())"
   ]
  },
  {
   "cell_type": "code",
   "execution_count": 50,
   "metadata": {},
   "outputs": [],
   "source": [
    "len_tokens_questions = [len(x) for x in train_questions]\n",
    "len_tokens_answers = [len(x) for x in train_answers]"
   ]
  },
  {
   "cell_type": "code",
   "execution_count": 72,
   "metadata": {},
   "outputs": [
    {
     "data": {
      "text/plain": [
       "Text(0, 0.5, 'Length')"
      ]
     },
     "execution_count": 72,
     "metadata": {},
     "output_type": "execute_result"
    },
    {
     "data": {
      "image/png": "[encoded data removed]",
      "text/plain": [
       "<Figure size 432x288 with 1 Axes>"
      ]
     },
     "metadata": {
      "needs_background": "light"
     },
     "output_type": "display_data"
    }
   ],
   "source": [
    "plt.hist(len_questions)\n",
    "plt.title('Histogram of Length of tokens of questions')\n",
    "plt.ylabel('Length')\n"
   ]
  },
  {
   "cell_type": "code",
   "execution_count": 73,
   "metadata": {},
   "outputs": [
    {
     "data": {
      "text/plain": [
       "Text(0, 0.5, 'Length')"
      ]
     },
     "execution_count": 73,
     "metadata": {},
     "output_type": "execute_result"
    },
    {
     "data": {
      "image/png": "[encoded data removed]",
      "text/plain": [
       "<Figure size 432x288 with 1 Axes>"
      ]
     },
     "metadata": {
      "needs_background": "light"
     },
     "output_type": "display_data"
    }
   ],
   "source": [
    "plt.hist(len_answers, bins = [0, 10, 20, 30, 40, 50, 60, 70, 80, 90, 100, 120, 140, 160, 180, 200, 250,300])\n",
    "plt.title('Histogram of Length of tokens of answers')\n",
    "plt.ylabel('Length')\n"
   ]
  },
  {
   "cell_type": "code",
   "execution_count": 66,
   "metadata": {},
   "outputs": [
    {
     "data": {
      "text/plain": [
       "array([[ 1.2208935 , -1.9759346 , -2.302987  , ..., -0.7717542 ,\n",
       "         4.413171  ,  2.0625925 ],\n",
       "       [-0.5468536 , -2.128617  ,  3.319674  , ..., -0.71189725,\n",
       "        -3.0387068 , -0.281412  ],\n",
       "       [-0.8814445 , -1.9335303 ,  1.9944925 , ...,  0.58494353,\n",
       "         3.5710359 ,  0.6534005 ],\n",
       "       ...,\n",
       "       [ 0.8379983 , -1.3142704 , -0.6626488 , ..., -1.1109332 ,\n",
       "        -0.33079302,  1.3191683 ],\n",
       "       [ 0.28009018,  1.1195608 , -0.7338648 , ...,  3.6615975 ,\n",
       "        -0.45417595, -1.7422245 ],\n",
       "       [-0.42827654, -2.2992845 , -1.73215   , ...,  0.6058119 ,\n",
       "         0.84054804,  0.9954988 ]], dtype=float32)"
      ]
     },
     "execution_count": 66,
     "metadata": {},
     "output_type": "execute_result"
    }
   ],
   "source": [
    "word2vec = KeyedVectors.load_word2vec_format('./backbones/baomoi.model.bin', binary=True)\n"
   ]
  },
  {
   "cell_type": "code",
   "execution_count": 71,
   "metadata": {},
   "outputs": [
    {
     "data": {
      "text/plain": [
       "array([[ 0.04340091, -0.5618748 , -1.0432632 , ..., -1.3564956 ,\n",
       "         1.11348   ,  0.66298574],\n",
       "       [ 0.02601759, -1.6084557 ,  0.7561448 , ..., -4.554989  ,\n",
       "        -1.2670665 ,  0.762465  ],\n",
       "       [ 1.1120932 , -2.1533458 , -1.0027261 , ...,  1.3572319 ,\n",
       "        -2.0474346 ,  1.8641253 ],\n",
       "       ...,\n",
       "       [-1.3179561 , -3.8771944 ,  0.5683352 , ..., -0.18087955,\n",
       "         0.12403365,  0.22700116],\n",
       "       [ 0.04340091, -0.5618748 , -1.0432632 , ..., -1.3564956 ,\n",
       "         1.11348   ,  0.66298574],\n",
       "       [-0.96256435,  4.300559  , -3.9244041 , ..., -0.7608068 ,\n",
       "         0.17696989,  3.65788   ]], dtype=float32)"
      ]
     },
     "execution_count": 71,
     "metadata": {},
     "output_type": "execute_result"
    }
   ],
   "source": [
    "t = word2vec[train_questions[0]]\n",
    "t"
   ]
  },
  {
   "cell_type": "code",
   "execution_count": 69,
   "metadata": {},
   "outputs": [
    {
     "data": {
      "text/plain": [
       "676"
      ]
     },
     "execution_count": 69,
     "metadata": {},
     "output_type": "execute_result"
    }
   ],
   "source": [
    "max(len_answers)"
   ]
  },
  {
   "cell_type": "code",
   "execution_count": null,
   "metadata": {},
   "outputs": [],
   "source": []
  }
 ],
 "metadata": {
  "kernelspec": {
   "display_name": "Python 3",
   "language": "python",
   "name": "python3"
  },
  "language_info": {
   "codemirror_mode": {
    "name": "ipython",
    "version": 3
   },
   "file_extension": ".py",
   "mimetype": "text/x-python",
   "name": "python",
   "nbconvert_exporter": "python",
   "pygments_lexer": "ipython3",
   "version": "3.7.3"
  }
 },
 "nbformat": 4,
 "nbformat_minor": 2
}
